{
 "cells": [
  {
   "cell_type": "markdown",
   "id": "71769ee8-ec98-4f11-8fde-14d724f2c087",
   "metadata": {},
   "source": [
    "# Dealing with variable-length sequences efficiently\n",
    "\n",
    "This notebook is meant to be run using a GPU.\n",
    "\n",
    "RNNs can work with variable length sequences. This notebook shows how to do this efficiently with `keras`."
   ]
  },
  {
   "cell_type": "code",
   "execution_count": null,
   "id": "ba771a15-3a91-4137-afe4-f8887850629e",
   "metadata": {},
   "outputs": [],
   "source": [
    "import os\n",
    "from os.path import exists\n",
    "from urllib.request import urlretrieve\n",
    "\n",
    "import tensorflow as tf\n",
    "import numpy as np\n",
    "import pandas\n",
    "from tqdm.auto import tqdm"
   ]
  },
  {
   "cell_type": "markdown",
   "id": "d3547d20-fcde-4aa8-87d2-b0ca7c273240",
   "metadata": {},
   "source": [
    "For this hands-on we will use the [Top Tagging dataset](https://arxiv.org/abs/1707.08966). This simplified MC data consists of signal Top jets and other quark and gluon background jets. For each jet, a maximum of 200 constituents were identified and ranked according their $P_T$. The four-momenta of these ranked constituents are now used as an input sequence for our RNN. Note that the number of constituents varies between the jets."
   ]
  },
  {
   "cell_type": "markdown",
   "id": "404381a3",
   "metadata": {},
   "source": [
    "At first we will download the data and have a look at it."
   ]
  },
  {
   "cell_type": "code",
   "execution_count": null,
   "id": "85846bc4",
   "metadata": {},
   "outputs": [],
   "source": [
    "if not exists(\"test.h5\"):\n",
    "    urlretrieve(\"https://desycloud.desy.de/index.php/s/llbX3zpLhazgPJ6/download?path=%2F&files=test.h5\", \"test.h5\")"
   ]
  },
  {
   "cell_type": "code",
   "execution_count": null,
   "id": "d1b144e6",
   "metadata": {},
   "outputs": [],
   "source": [
    "store = pandas.HDFStore(\"test.h5\")\n",
    "df = store.select(\"table\", stop=100000) # Read the first X events\n",
    "\n",
    "truth = df.iloc[:, -6:]\n",
    "df = df.iloc[: , :-6] # drop the last six columns with truth information\n",
    "df.head()"
   ]
  },
  {
   "cell_type": "code",
   "execution_count": null,
   "id": "3a00ab33-3468-4000-897f-6669f403311c",
   "metadata": {},
   "outputs": [],
   "source": [
    "truth.head()"
   ]
  },
  {
   "cell_type": "markdown",
   "id": "56618aed",
   "metadata": {},
   "source": [
    "In order to have a dataset as if we measured it, we will remove all padded zeros from the dataset.."
   ]
  },
  {
   "cell_type": "code",
   "execution_count": null,
   "id": "a6476846",
   "metadata": {},
   "outputs": [],
   "source": [
    "data = df.to_numpy()\n",
    "data = data.reshape(len(df), -1, 4) # last dimension will be (E, px, py, pz)\n",
    "data = [row[~(row == 0).all(axis=-1)] for row in data] # remove constituents with all momentum components == 0"
   ]
  },
  {
   "cell_type": "code",
   "execution_count": null,
   "id": "b832ec01-2dab-4988-b8e1-69640d2f7f62",
   "metadata": {},
   "outputs": [],
   "source": [
    "len(data[0])"
   ]
  },
  {
   "cell_type": "markdown",
   "id": "be5bee01",
   "metadata": {},
   "source": [
    "Our dataset is now a list of measured jets consisting of arrays with shape (constituent, feature). Or more general: a list (batch) of arrays (sequence, feature). The number of constituents varies between the jets."
   ]
  },
  {
   "cell_type": "code",
   "execution_count": null,
   "id": "13ead4fd",
   "metadata": {},
   "outputs": [],
   "source": [
    "for jet in range(5):\n",
    "    print(data[jet].shape[0], 'constituents for jet nr.', jet)"
   ]
  },
  {
   "cell_type": "markdown",
   "id": "08765580-b05c-4ed2-9353-1085890acb2a",
   "metadata": {},
   "source": [
    "We want to feed this through the following 2-layer LSTM model - it takes a batch of sequences of arbitrary length and outputs a batch of numbers:"
   ]
  },
  {
   "cell_type": "code",
   "execution_count": null,
   "id": "3f763b51-ce94-44a6-ab44-cde6cf488183",
   "metadata": {},
   "outputs": [],
   "source": [
    "model = tf.keras.Sequential([\n",
    "    tf.keras.layers.LSTM(128, input_shape=(None, 4), return_sequences=True),\n",
    "    tf.keras.layers.LSTM(128),\n",
    "    tf.keras.layers.Dense(1),\n",
    "])"
   ]
  },
  {
   "cell_type": "code",
   "execution_count": null,
   "id": "25c77d6d-b9e5-4b33-b42b-c03be56053ed",
   "metadata": {},
   "outputs": [],
   "source": [
    "model.summary()"
   ]
  },
  {
   "cell_type": "markdown",
   "id": "81bd65c3-748e-4c70-82a6-0824955a6082",
   "metadata": {},
   "source": [
    "How do we feed in the variable number of constituents? Well, since the first two input dimensions of our model are unspecified (jets, constituent) we can pass each jet separately. Let's see how fast this is."
   ]
  },
  {
   "cell_type": "code",
   "execution_count": null,
   "id": "020b2d60-1bc9-4e7e-9899-6240ce9e124f",
   "metadata": {
    "tags": []
   },
   "outputs": [],
   "source": [
    "for jet in tqdm(data):\n",
    "    model(jet[np.newaxis, :])"
   ]
  },
  {
   "cell_type": "markdown",
   "id": "f0ef1d32-fce7-4380-9eb9-a5075723f6d1",
   "metadata": {},
   "source": [
    "Doesn't seem that bad does it?\n",
    "\n",
    "Wait! We haven't seen yet how fast it could be ...\n",
    "\n",
    "If you look at the GPU utilization (e.g. with `nvidia-smi`) while this is running you will see it is rather low. That's because RNNs are inherently sequential - we can't process the different steps of a sequence (of constituents in jet) in parallel."
   ]
  },
  {
   "cell_type": "markdown",
   "id": "db60929c-5329-47f3-a05b-0ee3211a3dce",
   "metadata": {},
   "source": [
    "But what we can do is to process each step of the sequence (each constituent in jet) in parallel across all jets in our batch!\n",
    "\n",
    "Keras will do this if we provide batches that are Tensors of fixed length.\n",
    "\n",
    "To try this out, let's enlarge the sequences to a fixed length and fill missing values with zeros:"
   ]
  },
  {
   "cell_type": "code",
   "execution_count": null,
   "id": "1107fe03-6238-4072-82e7-b15cff1aa352",
   "metadata": {},
   "outputs": [],
   "source": [
    "padded_data = tf.keras.preprocessing.sequence.pad_sequences(data, padding=\"post\", dtype=\"float32\")"
   ]
  },
  {
   "cell_type": "markdown",
   "id": "1706b86b",
   "metadata": {},
   "source": [
    "Now we have a dataset with a uniform number of constituents (again)."
   ]
  },
  {
   "cell_type": "code",
   "execution_count": null,
   "id": "7a15b5d1-9ab8-4112-a279-668fc3aaa4e3",
   "metadata": {},
   "outputs": [],
   "source": [
    "padded_data.shape # (batch, constituents, features)"
   ]
  },
  {
   "cell_type": "code",
   "execution_count": null,
   "id": "546b3a21-2be6-4be6-bf33-40727c5daae9",
   "metadata": {
    "tags": []
   },
   "outputs": [],
   "source": [
    "padded_data[0,:3,:] # four-momenta of the first three constituents in the first jet"
   ]
  },
  {
   "cell_type": "markdown",
   "id": "a9a2fd02",
   "metadata": {},
   "source": [
    "Now evaluate the RNN, but this time parallelize the evaluation of the sequence (constituents) over the batch (jet) dimension."
   ]
  },
  {
   "cell_type": "code",
   "execution_count": null,
   "id": "be5b65f1-f9f2-4784-9ebf-e240441e5af2",
   "metadata": {},
   "outputs": [],
   "source": [
    "model.predict(padded_data, batch_size=256, verbose=True)[:10,:]"
   ]
  },
  {
   "cell_type": "markdown",
   "id": "902695ca-662b-422e-b7ee-e66aebc64a4d",
   "metadata": {},
   "source": [
    "That should have been **much** faster.\n",
    "\n",
    "But now the model also processed the 0-padded values. We can see that e.g. the first output is different than what we expect from passing in the first sequence:"
   ]
  },
  {
   "cell_type": "code",
   "execution_count": null,
   "id": "6774e47d-6ada-463a-869e-d1523cc96306",
   "metadata": {},
   "outputs": [],
   "source": [
    "model(data[0][np.newaxis, :])"
   ]
  },
  {
   "cell_type": "markdown",
   "id": "92e6d477-02a7-48c5-8200-6016bfa1ba04",
   "metadata": {},
   "source": [
    "In keras we can solve this by a `Masking` layer - subsequent RNN layers will respect this and only process non-masked inputs.\n",
    "\n",
    "For more info, see https://keras.io/guides/understanding_masking_and_padding/"
   ]
  },
  {
   "cell_type": "code",
   "execution_count": null,
   "id": "e5441255-387d-49e8-bd51-11b2a2b1c926",
   "metadata": {},
   "outputs": [],
   "source": [
    "masked_model = tf.keras.Sequential([\n",
    "    tf.keras.layers.Masking(mask_value=0.0),\n",
    "    tf.keras.layers.LSTM(128, input_shape=(None, 4), return_sequences=True),\n",
    "    tf.keras.layers.LSTM(128),\n",
    "    tf.keras.layers.Dense(1),\n",
    "])"
   ]
  },
  {
   "cell_type": "code",
   "execution_count": null,
   "id": "cfc14e8d-68bb-4950-a861-ca44604b6ac6",
   "metadata": {},
   "outputs": [],
   "source": [
    "masked_model.build(input_shape=(None, None, 4))"
   ]
  },
  {
   "cell_type": "code",
   "execution_count": null,
   "id": "ec5d0f6b-cb1d-4a7f-8e94-0c7b944371b8",
   "metadata": {},
   "outputs": [],
   "source": [
    "# set the weights such that we can compare the outputs of both models\n",
    "masked_model.set_weights(model.get_weights())"
   ]
  },
  {
   "cell_type": "code",
   "execution_count": null,
   "id": "e22854be-2734-45e1-a5b0-6e08ac3d8615",
   "metadata": {},
   "outputs": [],
   "source": [
    "masked_model.predict(padded_data, batch_size=256, verbose=True)[:10,:]"
   ]
  },
  {
   "cell_type": "markdown",
   "id": "3113bf8b-3af8-4641-b620-25df6046e0a9",
   "metadata": {},
   "source": [
    "This time the output is compatible with the one-by-one processing."
   ]
  },
  {
   "cell_type": "markdown",
   "id": "3fb8ac8d-80ad-4328-9c47-ad4c0e3c9a2f",
   "metadata": {},
   "source": [
    "# Exercise: Try to distinguish top quark from QCD jets using an RNN\n",
    "\n",
    "The dataset comes with a label, indicating whether a jet comes from a top quark decay or from gluons (QCD):"
   ]
  },
  {
   "cell_type": "code",
   "execution_count": null,
   "id": "34f769a4-133b-4199-9b6f-94dacac0964b",
   "metadata": {},
   "outputs": [],
   "source": [
    "y = truth.is_signal_new.to_numpy()\n",
    "X = padded_data"
   ]
  },
  {
   "cell_type": "code",
   "execution_count": null,
   "id": "93b8833a-45d5-446d-af6d-4b8571e6e018",
   "metadata": {},
   "outputs": [],
   "source": [
    "from sklearn.model_selection import train_test_split"
   ]
  },
  {
   "cell_type": "code",
   "execution_count": null,
   "id": "a60e6ebc-17a6-4af1-9837-7a3a3789021c",
   "metadata": {},
   "outputs": [],
   "source": [
    "X_train, X_test, y_train, y_test = train_test_split(X, y)"
   ]
  },
  {
   "cell_type": "markdown",
   "id": "2225a00e-7715-49fa-84dd-2cd61b4b5d6f",
   "metadata": {},
   "source": [
    "Try to train an RNN-based model to predict the correct label:"
   ]
  },
  {
   "cell_type": "code",
   "execution_count": null,
   "id": "d4ba1940-049a-402c-810f-2fe5e8a8b889",
   "metadata": {},
   "outputs": [],
   "source": [
    "model = ...\n",
    "model.compile(...)\n",
    "model.summary()"
   ]
  },
  {
   "cell_type": "code",
   "execution_count": null,
   "id": "f0b52dee-9ed6-4637-baba-695def071ac9",
   "metadata": {},
   "outputs": [],
   "source": [
    "history = model.fit(...)"
   ]
  },
  {
   "cell_type": "code",
   "execution_count": null,
   "id": "953ad53e-750c-4735-8cd8-6ab3d458c1a3",
   "metadata": {},
   "outputs": [],
   "source": [
    "pandas.DataFrame(history.history).plot()\n",
    "plt.xlabel(\"epoch\")"
   ]
  },
  {
   "cell_type": "code",
   "execution_count": null,
   "id": "b5a7cef8-190b-4cf2-a559-3979defb5b82",
   "metadata": {},
   "outputs": [],
   "source": [
    "from sklearn.metrics import roc_curve"
   ]
  },
  {
   "cell_type": "code",
   "execution_count": null,
   "id": "d9742386-0df7-4bb4-93eb-f139a4f9f61f",
   "metadata": {},
   "outputs": [],
   "source": [
    "y_pred = model.predict(X_test, batch_size=256)"
   ]
  },
  {
   "cell_type": "code",
   "execution_count": null,
   "id": "6332019d-c335-4109-8c0e-78d01d2db3f3",
   "metadata": {},
   "outputs": [],
   "source": [
    "fpr, tpr, thr = roc_curve(y_test, y_pred)"
   ]
  },
  {
   "cell_type": "code",
   "execution_count": null,
   "id": "5211d45b-9c0c-4256-932c-22862d5cb57a",
   "metadata": {},
   "outputs": [],
   "source": [
    "plt.plot(tpr, 1 / fpr)\n",
    "plt.yscale(\"log\")\n",
    "plt.ylabel(\"QCD jet rejection\")\n",
    "plt.xlabel(\"Top quark jet efficiency\")\n",
    "plt.yscale(\"log\")"
   ]
  }
 ],
 "metadata": {
  "kernelspec": {
   "display_name": "Python 3 (ipykernel)",
   "language": "python",
   "name": "python3"
  },
  "language_info": {
   "codemirror_mode": {
    "name": "ipython",
    "version": 3
   },
   "file_extension": ".py",
   "mimetype": "text/x-python",
   "name": "python",
   "nbconvert_exporter": "python",
   "pygments_lexer": "ipython3",
   "version": "3.9.7"
  },
  "vscode": {
   "interpreter": {
    "hash": "94cc248d763bf4bcc2fc0c013b1e38e23957d01f131888b5886fd5ba7df32984"
   }
  }
 },
 "nbformat": 4,
 "nbformat_minor": 5
}
