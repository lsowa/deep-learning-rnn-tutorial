{
 "cells": [
  {
   "cell_type": "markdown",
   "id": "71769ee8-ec98-4f11-8fde-14d724f2c087",
   "metadata": {},
   "source": [
    "# Dealing with variable-length sequences efficiently\n",
    "\n",
    "This notebook is meant to be run using a GPU.\n",
    "\n",
    "RNNs can work with variable length sequences. This notebook shows how to do this efficiently with `keras`."
   ]
  },
  {
   "cell_type": "code",
   "execution_count": 1,
   "id": "ba771a15-3a91-4137-afe4-f8887850629e",
   "metadata": {},
   "outputs": [
    {
     "name": "stderr",
     "output_type": "stream",
     "text": [
      "/ceph/lsowa/envs/tf/lib/python3.9/site-packages/tqdm/auto.py:22: TqdmWarning: IProgress not found. Please update jupyter and ipywidgets. See https://ipywidgets.readthedocs.io/en/stable/user_install.html\n",
      "  from .autonotebook import tqdm as notebook_tqdm\n"
     ]
    }
   ],
   "source": [
    "import tensorflow as tf\n",
    "import numpy as np\n",
    "import wget\n",
    "import pandas\n",
    "\n",
    "from os.path import exists\n",
    "from tqdm.auto import tqdm"
   ]
  },
  {
   "cell_type": "markdown",
   "id": "d3547d20-fcde-4aa8-87d2-b0ca7c273240",
   "metadata": {},
   "source": [
    "For this hands-on we will use the [Top Tagging dataset](https://arxiv.org/abs/1707.08966). This simplified MC data consists of signal Top jets and other quark and gluon background jets. For each jet, a maximum of 200 constituents are identified and ranked according their $P_T$. The four-momenta of these ranked constituents are now used as an input for our RNN. Note that the the number of constituents varies between the jets.\n",
    "\n"
   ]
  },
  {
   "cell_type": "markdown",
   "id": "404381a3",
   "metadata": {},
   "source": [
    "At first we will download the data and have a look at it."
   ]
  },
  {
   "cell_type": "code",
   "execution_count": 12,
   "id": "85846bc4",
   "metadata": {},
   "outputs": [],
   "source": [
    "if not exists(\"test.h5\"):\n",
    "    wget.download('https://desycloud.desy.de/index.php/s/llbX3zpLhazgPJ6/download?path=%2F&files=test.h5')"
   ]
  },
  {
   "cell_type": "code",
   "execution_count": 13,
   "id": "d1b144e6",
   "metadata": {},
   "outputs": [
    {
     "data": {
      "text/html": [
       "<div>\n",
       "<style scoped>\n",
       "    .dataframe tbody tr th:only-of-type {\n",
       "        vertical-align: middle;\n",
       "    }\n",
       "\n",
       "    .dataframe tbody tr th {\n",
       "        vertical-align: top;\n",
       "    }\n",
       "\n",
       "    .dataframe thead th {\n",
       "        text-align: right;\n",
       "    }\n",
       "</style>\n",
       "<table border=\"1\" class=\"dataframe\">\n",
       "  <thead>\n",
       "    <tr style=\"text-align: right;\">\n",
       "      <th></th>\n",
       "      <th>E_0</th>\n",
       "      <th>PX_0</th>\n",
       "      <th>PY_0</th>\n",
       "      <th>PZ_0</th>\n",
       "      <th>E_1</th>\n",
       "      <th>PX_1</th>\n",
       "      <th>PY_1</th>\n",
       "      <th>PZ_1</th>\n",
       "      <th>E_2</th>\n",
       "      <th>PX_2</th>\n",
       "      <th>...</th>\n",
       "      <th>PY_197</th>\n",
       "      <th>PZ_197</th>\n",
       "      <th>E_198</th>\n",
       "      <th>PX_198</th>\n",
       "      <th>PY_198</th>\n",
       "      <th>PZ_198</th>\n",
       "      <th>E_199</th>\n",
       "      <th>PX_199</th>\n",
       "      <th>PY_199</th>\n",
       "      <th>PZ_199</th>\n",
       "    </tr>\n",
       "  </thead>\n",
       "  <tbody>\n",
       "    <tr>\n",
       "      <th>436</th>\n",
       "      <td>218.364243</td>\n",
       "      <td>-172.341858</td>\n",
       "      <td>110.129105</td>\n",
       "      <td>-76.503624</td>\n",
       "      <td>153.661118</td>\n",
       "      <td>-111.320465</td>\n",
       "      <td>93.167969</td>\n",
       "      <td>-50.390713</td>\n",
       "      <td>76.708054</td>\n",
       "      <td>-56.523701</td>\n",
       "      <td>...</td>\n",
       "      <td>0.0</td>\n",
       "      <td>0.0</td>\n",
       "      <td>0.0</td>\n",
       "      <td>0.0</td>\n",
       "      <td>0.0</td>\n",
       "      <td>0.0</td>\n",
       "      <td>0.0</td>\n",
       "      <td>0.0</td>\n",
       "      <td>0.0</td>\n",
       "      <td>0.0</td>\n",
       "    </tr>\n",
       "    <tr>\n",
       "      <th>440</th>\n",
       "      <td>122.238762</td>\n",
       "      <td>26.738468</td>\n",
       "      <td>-91.613998</td>\n",
       "      <td>76.382225</td>\n",
       "      <td>121.227135</td>\n",
       "      <td>17.644758</td>\n",
       "      <td>-93.015450</td>\n",
       "      <td>75.715302</td>\n",
       "      <td>90.420105</td>\n",
       "      <td>21.377417</td>\n",
       "      <td>...</td>\n",
       "      <td>0.0</td>\n",
       "      <td>0.0</td>\n",
       "      <td>0.0</td>\n",
       "      <td>0.0</td>\n",
       "      <td>0.0</td>\n",
       "      <td>0.0</td>\n",
       "      <td>0.0</td>\n",
       "      <td>0.0</td>\n",
       "      <td>0.0</td>\n",
       "      <td>0.0</td>\n",
       "    </tr>\n",
       "    <tr>\n",
       "      <th>441</th>\n",
       "      <td>383.772308</td>\n",
       "      <td>-97.906456</td>\n",
       "      <td>79.640709</td>\n",
       "      <td>-362.426361</td>\n",
       "      <td>200.625992</td>\n",
       "      <td>-54.921326</td>\n",
       "      <td>37.994343</td>\n",
       "      <td>-189.184753</td>\n",
       "      <td>123.247223</td>\n",
       "      <td>-33.828953</td>\n",
       "      <td>...</td>\n",
       "      <td>0.0</td>\n",
       "      <td>0.0</td>\n",
       "      <td>0.0</td>\n",
       "      <td>0.0</td>\n",
       "      <td>0.0</td>\n",
       "      <td>0.0</td>\n",
       "      <td>0.0</td>\n",
       "      <td>0.0</td>\n",
       "      <td>0.0</td>\n",
       "      <td>0.0</td>\n",
       "    </tr>\n",
       "    <tr>\n",
       "      <th>444</th>\n",
       "      <td>132.492752</td>\n",
       "      <td>-77.763947</td>\n",
       "      <td>-87.322601</td>\n",
       "      <td>-62.304600</td>\n",
       "      <td>83.946594</td>\n",
       "      <td>-49.450481</td>\n",
       "      <td>-53.823605</td>\n",
       "      <td>-41.288010</td>\n",
       "      <td>28.072624</td>\n",
       "      <td>-19.964916</td>\n",
       "      <td>...</td>\n",
       "      <td>0.0</td>\n",
       "      <td>0.0</td>\n",
       "      <td>0.0</td>\n",
       "      <td>0.0</td>\n",
       "      <td>0.0</td>\n",
       "      <td>0.0</td>\n",
       "      <td>0.0</td>\n",
       "      <td>0.0</td>\n",
       "      <td>0.0</td>\n",
       "      <td>0.0</td>\n",
       "    </tr>\n",
       "    <tr>\n",
       "      <th>445</th>\n",
       "      <td>730.786987</td>\n",
       "      <td>-209.120010</td>\n",
       "      <td>-193.454315</td>\n",
       "      <td>-672.973877</td>\n",
       "      <td>225.477325</td>\n",
       "      <td>-75.363350</td>\n",
       "      <td>-66.226990</td>\n",
       "      <td>-201.926651</td>\n",
       "      <td>217.040192</td>\n",
       "      <td>-63.698189</td>\n",
       "      <td>...</td>\n",
       "      <td>0.0</td>\n",
       "      <td>0.0</td>\n",
       "      <td>0.0</td>\n",
       "      <td>0.0</td>\n",
       "      <td>0.0</td>\n",
       "      <td>0.0</td>\n",
       "      <td>0.0</td>\n",
       "      <td>0.0</td>\n",
       "      <td>0.0</td>\n",
       "      <td>0.0</td>\n",
       "    </tr>\n",
       "  </tbody>\n",
       "</table>\n",
       "<p>5 rows × 800 columns</p>\n",
       "</div>"
      ],
      "text/plain": [
       "            E_0        PX_0        PY_0        PZ_0         E_1        PX_1  \\\n",
       "436  218.364243 -172.341858  110.129105  -76.503624  153.661118 -111.320465   \n",
       "440  122.238762   26.738468  -91.613998   76.382225  121.227135   17.644758   \n",
       "441  383.772308  -97.906456   79.640709 -362.426361  200.625992  -54.921326   \n",
       "444  132.492752  -77.763947  -87.322601  -62.304600   83.946594  -49.450481   \n",
       "445  730.786987 -209.120010 -193.454315 -672.973877  225.477325  -75.363350   \n",
       "\n",
       "          PY_1        PZ_1         E_2       PX_2  ...  PY_197  PZ_197  E_198  \\\n",
       "436  93.167969  -50.390713   76.708054 -56.523701  ...     0.0     0.0    0.0   \n",
       "440 -93.015450   75.715302   90.420105  21.377417  ...     0.0     0.0    0.0   \n",
       "441  37.994343 -189.184753  123.247223 -33.828953  ...     0.0     0.0    0.0   \n",
       "444 -53.823605  -41.288010   28.072624 -19.964916  ...     0.0     0.0    0.0   \n",
       "445 -66.226990 -201.926651  217.040192 -63.698189  ...     0.0     0.0    0.0   \n",
       "\n",
       "     PX_198  PY_198  PZ_198  E_199  PX_199  PY_199  PZ_199  \n",
       "436     0.0     0.0     0.0    0.0     0.0     0.0     0.0  \n",
       "440     0.0     0.0     0.0    0.0     0.0     0.0     0.0  \n",
       "441     0.0     0.0     0.0    0.0     0.0     0.0     0.0  \n",
       "444     0.0     0.0     0.0    0.0     0.0     0.0     0.0  \n",
       "445     0.0     0.0     0.0    0.0     0.0     0.0     0.0  \n",
       "\n",
       "[5 rows x 800 columns]"
      ]
     },
     "execution_count": 13,
     "metadata": {},
     "output_type": "execute_result"
    }
   ],
   "source": [
    "store = pandas.HDFStore(\"test.h5\")\n",
    "data = store.select(\"table\", stop=20) # Read the first 100 events\n",
    "\n",
    "data = data.iloc[: , :-6] # drop the last six columns with truth information\n",
    "data.head()"
   ]
  },
  {
   "cell_type": "markdown",
   "id": "56618aed",
   "metadata": {},
   "source": [
    "In order to have a dataset as if we measured it, we will remove all padded zeros from the dataset.."
   ]
  },
  {
   "cell_type": "code",
   "execution_count": 14,
   "id": "a6476846",
   "metadata": {},
   "outputs": [],
   "source": [
    "data = np.array(data)\n",
    "data = [np.trim_zeros(data[i,:]) for i in range(data.shape[0])] # delete zeros and write jets in a list\n",
    "data = [np.array([dat[0::4], dat[1::4], dat[2::4], dat[3::4]]).T for dat in data] # write features in an extra axis"
   ]
  },
  {
   "cell_type": "markdown",
   "id": "be5bee01",
   "metadata": {},
   "source": [
    "Our dataset is now a list of measured jets consisting of arrays of shape (constituent, feature). Or more general: a list (batch) of arrays (sequence, feature). The number of constituents varies between the jets."
   ]
  },
  {
   "cell_type": "code",
   "execution_count": 15,
   "id": "13ead4fd",
   "metadata": {},
   "outputs": [
    {
     "name": "stdout",
     "output_type": "stream",
     "text": [
      "17 constituents for jet nr. 0\n",
      "61 constituents for jet nr. 1\n",
      "45 constituents for jet nr. 2\n",
      "74 constituents for jet nr. 3\n",
      "30 constituents for jet nr. 4\n"
     ]
    }
   ],
   "source": [
    "for jet in range(5):\n",
    "    print(data[jet].shape[0], 'constituents for jet nr.', jet)"
   ]
  },
  {
   "cell_type": "markdown",
   "id": "08765580-b05c-4ed2-9353-1085890acb2a",
   "metadata": {},
   "source": [
    "We want to feed this through the following 2-layer LSTM model - it takes a batch of sequences of arbitrary length and outputs a batch of numbers:"
   ]
  },
  {
   "cell_type": "code",
   "execution_count": 16,
   "id": "3f763b51-ce94-44a6-ab44-cde6cf488183",
   "metadata": {},
   "outputs": [],
   "source": [
    "model = tf.keras.Sequential([\n",
    "    tf.keras.layers.LSTM(128, input_shape=(None, 4), return_sequences=True),\n",
    "    tf.keras.layers.LSTM(128),\n",
    "    tf.keras.layers.Dense(1),\n",
    "])"
   ]
  },
  {
   "cell_type": "code",
   "execution_count": 28,
   "id": "25c77d6d-b9e5-4b33-b42b-c03be56053ed",
   "metadata": {},
   "outputs": [
    {
     "name": "stdout",
     "output_type": "stream",
     "text": [
      "Model: \"sequential_1\"\n",
      "_________________________________________________________________\n",
      " Layer (type)                Output Shape              Param #   \n",
      "=================================================================\n",
      " lstm_2 (LSTM)               (None, None, 128)         68096     \n",
      "                                                                 \n",
      " lstm_3 (LSTM)               (None, 128)               131584    \n",
      "                                                                 \n",
      " dense_1 (Dense)             (None, 1)                 129       \n",
      "                                                                 \n",
      "=================================================================\n",
      "Total params: 199,809\n",
      "Trainable params: 199,809\n",
      "Non-trainable params: 0\n",
      "_________________________________________________________________\n"
     ]
    }
   ],
   "source": [
    "model.summary()"
   ]
  },
  {
   "cell_type": "markdown",
   "id": "81bd65c3-748e-4c70-82a6-0824955a6082",
   "metadata": {},
   "source": [
    "How do we feed in the variable number of constituents? Well, since the first two input dimensions of our model are unspecified `(jets, constituent)` we can pass each jet separately. Let's see how fast this is:"
   ]
  },
  {
   "cell_type": "code",
   "execution_count": 32,
   "id": "020b2d60-1bc9-4e7e-9899-6240ce9e124f",
   "metadata": {
    "tags": []
   },
   "outputs": [
    {
     "name": "stderr",
     "output_type": "stream",
     "text": [
      "100%|██████████| 20/20 [00:02<00:00,  9.69it/s]\n"
     ]
    }
   ],
   "source": [
    "for jet in tqdm(data):\n",
    "    model(jet[np.newaxis, :])"
   ]
  },
  {
   "cell_type": "markdown",
   "id": "f0ef1d32-fce7-4380-9eb9-a5075723f6d1",
   "metadata": {},
   "source": [
    "Doesn't seem that bad does it?\n",
    "\n",
    "Wait! We haven't seen yet how fast it could be ...\n",
    "\n",
    "If you look at the GPU utilization (e.g. with `nvidia-smi`) while this is running you will see it is rather low. That's because RNNs are inherently sequential - we can't process the different steps of a sequence (constituents in jet) in parallel."
   ]
  },
  {
   "cell_type": "markdown",
   "id": "db60929c-5329-47f3-a05b-0ee3211a3dce",
   "metadata": {},
   "source": [
    "But what we can do is process each step of the sequence (each constituent in jet) in parallel across all jets in our batch!\n",
    "\n",
    "Keras will do this if we provide batches that are Tensors of fixed length.\n",
    "\n",
    "To try this out, let's enlarge the sequences to a fixed length and fill missing values with 0:"
   ]
  },
  {
   "cell_type": "code",
   "execution_count": 33,
   "id": "1107fe03-6238-4072-82e7-b15cff1aa352",
   "metadata": {},
   "outputs": [],
   "source": [
    "padded_data = tf.keras.preprocessing.sequence.pad_sequences(data, padding=\"post\", dtype=\"float32\")"
   ]
  },
  {
   "cell_type": "markdown",
   "id": "1706b86b",
   "metadata": {},
   "source": [
    "Now we have a dataset with a uniform number of constituents (again)."
   ]
  },
  {
   "cell_type": "code",
   "execution_count": 20,
   "id": "7a15b5d1-9ab8-4112-a279-668fc3aaa4e3",
   "metadata": {},
   "outputs": [
    {
     "data": {
      "text/plain": [
       "(20, 94, 4)"
      ]
     },
     "execution_count": 20,
     "metadata": {},
     "output_type": "execute_result"
    }
   ],
   "source": [
    "padded_data.shape # (batch, constituents, features)"
   ]
  },
  {
   "cell_type": "code",
   "execution_count": 26,
   "id": "546b3a21-2be6-4be6-bf33-40727c5daae9",
   "metadata": {
    "tags": []
   },
   "outputs": [
    {
     "data": {
      "text/plain": [
       "array([[ 218.36424 , -172.34186 ,  110.129105,  -76.503624],\n",
       "       [ 153.66112 , -111.320465,   93.16797 ,  -50.390713],\n",
       "       [  76.70805 ,  -56.5237  ,   46.127293,  -23.695349]],\n",
       "      dtype=float32)"
      ]
     },
     "execution_count": 26,
     "metadata": {},
     "output_type": "execute_result"
    }
   ],
   "source": [
    "padded_data[0,:3,:] # four-momenta of the first three constituents in the first jet"
   ]
  },
  {
   "cell_type": "code",
   "execution_count": null,
   "id": "be5b65f1-f9f2-4784-9ebf-e240441e5af2",
   "metadata": {},
   "outputs": [
    {
     "name": "stdout",
     "output_type": "stream",
     "text": [
      "1/1 [==============================] - 1s 1s/step\n"
     ]
    },
    {
     "data": {
      "text/plain": [
       "array([[-1.6438955e-13],\n",
       "       [-9.1246635e-11],\n",
       "       [-9.8816380e-12],\n",
       "       [-4.3296894e-10],\n",
       "       [-1.4093572e-12]], dtype=float32)"
      ]
     },
     "execution_count": 12,
     "metadata": {},
     "output_type": "execute_result"
    }
   ],
   "source": [
    "model.predict(padded_data, batch_size=256, verbose=True)"
   ]
  },
  {
   "cell_type": "markdown",
   "id": "902695ca-662b-422e-b7ee-e66aebc64a4d",
   "metadata": {},
   "source": [
    "That should have been **much** faster.\n",
    "\n",
    "But now the model also processed the 0-padded values. We can see that e.g. the first output is different than what we expect from passing in the first sequence:"
   ]
  },
  {
   "cell_type": "code",
   "execution_count": null,
   "id": "6774e47d-6ada-463a-869e-d1523cc96306",
   "metadata": {},
   "outputs": [
    {
     "data": {
      "text/plain": [
       "<tf.Tensor: shape=(1, 1), dtype=float32, numpy=array([[-1.6438963e-13]], dtype=float32)>"
      ]
     },
     "execution_count": 13,
     "metadata": {},
     "output_type": "execute_result"
    }
   ],
   "source": [
    "model(data[0][np.newaxis, :])"
   ]
  },
  {
   "cell_type": "markdown",
   "id": "92e6d477-02a7-48c5-8200-6016bfa1ba04",
   "metadata": {},
   "source": [
    "In keras we can solve this by a `Masking` layer - subsequent RNN layers will respect this and only process non-masked inputs.\n",
    "\n",
    "For more info, see https://keras.io/guides/understanding_masking_and_padding/"
   ]
  },
  {
   "cell_type": "code",
   "execution_count": null,
   "id": "e5441255-387d-49e8-bd51-11b2a2b1c926",
   "metadata": {},
   "outputs": [],
   "source": [
    "masked_model = tf.keras.Sequential([\n",
    "    tf.keras.layers.Masking(mask_value=0.0),\n",
    "    tf.keras.layers.LSTM(128, input_shape=(None, 4), return_sequences=True),\n",
    "    tf.keras.layers.LSTM(128),\n",
    "    tf.keras.layers.Dense(1),\n",
    "])"
   ]
  },
  {
   "cell_type": "code",
   "execution_count": null,
   "id": "cfc14e8d-68bb-4950-a861-ca44604b6ac6",
   "metadata": {},
   "outputs": [],
   "source": [
    "masked_model.build(input_shape=(None, None, 4))"
   ]
  },
  {
   "cell_type": "code",
   "execution_count": null,
   "id": "ec5d0f6b-cb1d-4a7f-8e94-0c7b944371b8",
   "metadata": {},
   "outputs": [],
   "source": [
    "# set the weights such that we can compare the outputs of both models\n",
    "masked_model.set_weights(model.get_weights())"
   ]
  },
  {
   "cell_type": "code",
   "execution_count": null,
   "id": "e22854be-2734-45e1-a5b0-6e08ac3d8615",
   "metadata": {},
   "outputs": [
    {
     "name": "stdout",
     "output_type": "stream",
     "text": [
      "1/1 [==============================] - 3s 3s/step\n"
     ]
    },
    {
     "data": {
      "text/plain": [
       "array([[ 0.17153287],\n",
       "       [-0.02316774],\n",
       "       [ 0.3422022 ],\n",
       "       [ 0.10857085],\n",
       "       [ 0.31025657]], dtype=float32)"
      ]
     },
     "execution_count": 17,
     "metadata": {},
     "output_type": "execute_result"
    }
   ],
   "source": [
    "masked_model.predict(padded_data, batch_size=256, verbose=True)"
   ]
  },
  {
   "cell_type": "markdown",
   "id": "3113bf8b-3af8-4641-b620-25df6046e0a9",
   "metadata": {},
   "source": [
    "This time the output is compatible with the one-by-one processing."
   ]
  },
  {
   "cell_type": "markdown",
   "id": "044ff4cb",
   "metadata": {},
   "source": []
  }
 ],
 "metadata": {
  "kernelspec": {
   "display_name": "Python 3.9.6 ('tf')",
   "language": "python",
   "name": "python3"
  },
  "language_info": {
   "codemirror_mode": {
    "name": "ipython",
    "version": 3
   },
   "file_extension": ".py",
   "mimetype": "text/x-python",
   "name": "python",
   "nbconvert_exporter": "python",
   "pygments_lexer": "ipython3",
   "version": "3.9.6"
  },
  "vscode": {
   "interpreter": {
    "hash": "94cc248d763bf4bcc2fc0c013b1e38e23957d01f131888b5886fd5ba7df32984"
   }
  }
 },
 "nbformat": 4,
 "nbformat_minor": 5
}
